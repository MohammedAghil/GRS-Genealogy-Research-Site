{
 "cells": [
  {
   "cell_type": "code",
   "execution_count": 1,
   "id": "e30ffc85",
   "metadata": {},
   "outputs": [],
   "source": [
    "import pandas as pd\n",
    "import os\n",
    "import random"
   ]
  },
  {
   "cell_type": "code",
   "execution_count": 2,
   "id": "df366fdf",
   "metadata": {},
   "outputs": [],
   "source": [
    "data = pd.read_csv('./excel_datasets/RawData.csv')"
   ]
  },
  {
   "cell_type": "code",
   "execution_count": 3,
   "id": "0915592c",
   "metadata": {},
   "outputs": [],
   "source": [
    "data[\"name\"] = data[\"first_name\"] + \" \" + data[\"last_name\"] \n",
    "data = data[[\"name\",\"gender\",\"email\"]]\n",
    "data = data[:3000]"
   ]
  },
  {
   "cell_type": "code",
   "execution_count": 4,
   "id": "a848c3d3",
   "metadata": {},
   "outputs": [],
   "source": [
    "data[\"kitnumber\"] = [ chr(random.randrange(65,90)) + str(random.randrange(100000,300000)) for _ in range(3000)]\n",
    "\n",
    "\n",
    "data[\"age\"] = [random.randrange(100, 2500) for _ in range(3000)]\n",
    "\n",
    "data[\"type\"] = [ random.randrange(1,3) for _ in range(3000)]\n",
    "\n",
    "\n",
    "def Mt_col_generator():\n",
    "    Mt_list = [\"H1a1\",\"J1b1a1\",\"H1e1a\",\"T2b\",\"K2b1\",\"T2a1a\",\"H\",\"J1c2\",\"K1a\",\"H6a1\",\"\"]\n",
    "    arr = []\n",
    "    for _ in range(3000):\n",
    "        arr.append(random.choice(Mt_list))\n",
    "    return arr\n",
    "\n",
    "data[\"Mt\"] =  Mt_col_generator();\n",
    "\n",
    "data[\"Y\"] = [ random.choice([\"R1b\",\"I M253\",\" \",\"R2f\",\"T2g\",\"Z1h\",\"R-M167\"]) for _ in range(3000)]\n"
   ]
  },
  {
   "cell_type": "code",
   "execution_count": 5,
   "id": "17528336",
   "metadata": {},
   "outputs": [],
   "source": [
    "data[\"autosomaltotalcm\"] = [ random.randrange(0,10) for _ in range(3000)]\n",
    "\n",
    "data[\"autosomallargest\"] = [ str(random.randrange(0,10)) + \"Q\" for _ in range(3000)]\n",
    "\n",
    "data[\"gen\"] = [ random.randrange(0,100) for _ in range(3000)]\n",
    "\n",
    "data[\"xdnatotalcm\"] = [ random.randrange(0,10) for _ in range(3000)]\n",
    "\n",
    "data[\"xdnalargest\"] = [ random.randrange(0,10) for _ in range(3000)]\n",
    "\n",
    "data[\"source\"] = [ random.choice([\"Migration - F2 - T\",\"Migration - V4 - M\",\"Ancestry\",\"Custom Superkit\",\"Migration - F2 - A\",\"23andMe\"]) for _ in range(3000)]\n",
    "\n",
    "data[\"overlap\"] = [ \"N/A\" for _ in range(3000)]\n"
   ]
  },
  {
   "cell_type": "code",
   "execution_count": 6,
   "id": "80eddd1d",
   "metadata": {},
   "outputs": [],
   "source": [
    "data = data[:100]"
   ]
  },
  {
   "cell_type": "code",
   "execution_count": 7,
   "id": "6b8cbde6",
   "metadata": {},
   "outputs": [],
   "source": [
    "data.to_csv('./excel_datasets/final_data.csv')"
   ]
  }
 ],
 "metadata": {
  "kernelspec": {
   "display_name": "Python 3",
   "language": "python",
   "name": "python3"
  },
  "language_info": {
   "codemirror_mode": {
    "name": "ipython",
    "version": 3
   },
   "file_extension": ".py",
   "mimetype": "text/x-python",
   "name": "python",
   "nbconvert_exporter": "python",
   "pygments_lexer": "ipython3",
   "version": "3.8.8"
  }
 },
 "nbformat": 4,
 "nbformat_minor": 5
}
